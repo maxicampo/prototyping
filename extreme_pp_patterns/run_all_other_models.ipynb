{
 "cells": [
  {
   "cell_type": "code",
   "execution_count": 1,
   "id": "4ba33d3e-6d22-4732-9a0e-c48b97ac158d",
   "metadata": {},
   "outputs": [],
   "source": [
    "import glob\n",
    "import os\n",
    "import gc"
   ]
  },
  {
   "cell_type": "code",
   "execution_count": 2,
   "id": "b8aa5449-5354-470f-b69d-d22e42dacc74",
   "metadata": {},
   "outputs": [],
   "source": [
    "files = glob.glob('data/*')"
   ]
  },
  {
   "cell_type": "code",
   "execution_count": 3,
   "id": "6ff82635-09c8-4946-87a6-88e6d98e8270",
   "metadata": {},
   "outputs": [],
   "source": [
    "tasmax_prefix_size = len('data/tasmax_')\n",
    "pr_prefix_size = len('data/pr_')\n",
    "historical_suffix_size = len('_historical_Arg.nc')\n",
    "future_suffix_size = len('_ssp585_Arg.nc')"
   ]
  },
  {
   "cell_type": "code",
   "execution_count": 4,
   "id": "4762bf9c-99cb-4a5b-a871-e47e5fe70b54",
   "metadata": {},
   "outputs": [],
   "source": [
    "model_names = [x[tasmax_prefix_size:-historical_suffix_size] for x in files if x[0:tasmax_prefix_size] == 'data/tasmax_' and x[-historical_suffix_size:] == '_historical_Arg.nc']"
   ]
  },
  {
   "cell_type": "code",
   "execution_count": 5,
   "id": "d714e399-84b4-4ca0-ae20-1675ed8e01cd",
   "metadata": {},
   "outputs": [],
   "source": [
    "file_pairs = []\n",
    "\n",
    "for suffix in ['_historical_Arg', '_ssp585_Arg']:\n",
    "    for model in model_names:\n",
    "        if model not in ['ACCESS-ESM1-5',\n",
    "                         'CNRM-CM6-1',\n",
    "                         'CanESM5',\n",
    "                         'IPSL-CM6A-LR',\n",
    "                         'INM-CM5-0'] or suffix == '_ssp585_Arg':\n",
    "            file_pairs.append({'pr': 'data/pr_'+model+suffix+'.nc',\n",
    "                               'tas': 'data/tasmax_'+model+suffix+'.nc',\n",
    "                               'results_path': 'results/'+model+suffix})"
   ]
  },
  {
   "cell_type": "code",
   "execution_count": null,
   "id": "e0e8af60-a415-4074-bb26-e9f767de6cd7",
   "metadata": {
    "scrolled": true
   },
   "outputs": [
    {
     "name": "stdout",
     "output_type": "stream",
     "text": [
      "Writting results to results/HadGEM3-GC31-LL_historical_Arg\n",
      "Loading temperature data from: data/tasmax_HadGEM3-GC31-LL_historical_Arg.nc\n",
      "Loading precipitation data from: data/pr_HadGEM3-GC31-LL_historical_Arg.nc\n",
      " \n",
      "59.63671875\n",
      "Currently using NoneMB of memory\n",
      " \n",
      "Writting results to results/NorESM2-MM_historical_Arg\n"
     ]
    },
    {
     "name": "stderr",
     "output_type": "stream",
     "text": [
      "Traceback (most recent call last):\n",
      "  File \"/home/mcamporino/.pyenv/versions/py_3_10_14/lib/python3.10/site-packages/dateutil/parser/_parser.py\", line 649, in parse\n",
      "    ret = self._build_naive(res, default)\n",
      "  File \"/home/mcamporino/.pyenv/versions/py_3_10_14/lib/python3.10/site-packages/dateutil/parser/_parser.py\", line 1235, in _build_naive\n",
      "    naive = default.replace(**repl)\n",
      "ValueError: day is out of range for month\n",
      "\n",
      "The above exception was the direct cause of the following exception:\n",
      "\n",
      "Traceback (most recent call last):\n",
      "  File \"pandas/_libs/tslib.pyx\", line 534, in pandas._libs.tslib.array_to_datetime\n",
      "  File \"pandas/_libs/tslibs/parsing.pyx\", line 257, in pandas._libs.tslibs.parsing.parse_datetime_string\n",
      "  File \"/home/mcamporino/.pyenv/versions/py_3_10_14/lib/python3.10/site-packages/dateutil/parser/_parser.py\", line 1368, in parse\n",
      "    return DEFAULTPARSER.parse(timestr, **kwargs)\n",
      "  File \"/home/mcamporino/.pyenv/versions/py_3_10_14/lib/python3.10/site-packages/dateutil/parser/_parser.py\", line 651, in parse\n",
      "    six.raise_from(ParserError(str(e) + \": %s\", timestr), e)\n",
      "  File \"<string>\", line 3, in raise_from\n",
      "dateutil.parser._parser.ParserError: day is out of range for month: 1980-02-30 12:00:00\n",
      "\n",
      "During handling of the above exception, another exception occurred:\n",
      "\n",
      "Traceback (most recent call last):\n",
      "  File \"pandas/_libs/tslib.pyx\", line 545, in pandas._libs.tslib.array_to_datetime\n",
      "TypeError: invalid string coercion to datetime\n",
      "\n",
      "During handling of the above exception, another exception occurred:\n",
      "\n",
      "Traceback (most recent call last):\n",
      "  File \"/home/mcamporino/.pyenv/versions/py_3_10_14/lib/python3.10/site-packages/dateutil/parser/_parser.py\", line 649, in parse\n",
      "    ret = self._build_naive(res, default)\n",
      "  File \"/home/mcamporino/.pyenv/versions/py_3_10_14/lib/python3.10/site-packages/dateutil/parser/_parser.py\", line 1235, in _build_naive\n",
      "    naive = default.replace(**repl)\n",
      "ValueError: day is out of range for month\n",
      "\n",
      "The above exception was the direct cause of the following exception:\n",
      "\n",
      "Traceback (most recent call last):\n",
      "  File \"/home/mcamporino/repos/untracked/fonsa_models/process_data.py\", line 166, in <module>\n",
      "    main()\n",
      "  File \"/home/mcamporino/repos/untracked/fonsa_models/process_data.py\", line 74, in main\n",
      "    df_raw['time'] = pd.to_datetime(df_raw.time.astype(str))\n",
      "  File \"/home/mcamporino/.pyenv/versions/py_3_10_14/lib/python3.10/site-packages/pandas/core/tools/datetimes.py\", line 883, in to_datetime\n",
      "    cache_array = _maybe_cache(arg, format, cache, convert_listlike)\n",
      "  File \"/home/mcamporino/.pyenv/versions/py_3_10_14/lib/python3.10/site-packages/pandas/core/tools/datetimes.py\", line 195, in _maybe_cache\n",
      "    cache_dates = convert_listlike(unique_dates, format)\n",
      "  File \"/home/mcamporino/.pyenv/versions/py_3_10_14/lib/python3.10/site-packages/pandas/core/tools/datetimes.py\", line 401, in _convert_listlike_datetimes\n",
      "    result, tz_parsed = objects_to_datetime64ns(\n",
      "  File \"/home/mcamporino/.pyenv/versions/py_3_10_14/lib/python3.10/site-packages/pandas/core/arrays/datetimes.py\", line 2198, in objects_to_datetime64ns\n",
      "    raise err\n",
      "  File \"/home/mcamporino/.pyenv/versions/py_3_10_14/lib/python3.10/site-packages/pandas/core/arrays/datetimes.py\", line 2180, in objects_to_datetime64ns\n",
      "    result, tz_parsed = tslib.array_to_datetime(\n",
      "  File \"pandas/_libs/tslib.pyx\", line 379, in pandas._libs.tslib.array_to_datetime\n",
      "  File \"pandas/_libs/tslib.pyx\", line 611, in pandas._libs.tslib.array_to_datetime\n",
      "  File \"pandas/_libs/tslib.pyx\", line 749, in pandas._libs.tslib._array_to_datetime_object\n",
      "  File \"pandas/_libs/tslib.pyx\", line 740, in pandas._libs.tslib._array_to_datetime_object\n",
      "  File \"pandas/_libs/tslibs/parsing.pyx\", line 257, in pandas._libs.tslibs.parsing.parse_datetime_string\n",
      "  File \"/home/mcamporino/.pyenv/versions/py_3_10_14/lib/python3.10/site-packages/dateutil/parser/_parser.py\", line 1368, in parse\n",
      "    return DEFAULTPARSER.parse(timestr, **kwargs)\n",
      "  File \"/home/mcamporino/.pyenv/versions/py_3_10_14/lib/python3.10/site-packages/dateutil/parser/_parser.py\", line 651, in parse\n",
      "    six.raise_from(ParserError(str(e) + \": %s\", timestr), e)\n",
      "  File \"<string>\", line 3, in raise_from\n",
      "dateutil.parser._parser.ParserError: day is out of range for month: 1980-02-30 12:00:00\n",
      "Killed\n"
     ]
    },
    {
     "name": "stdout",
     "output_type": "stream",
     "text": [
      " \n",
      "41.3984375\n",
      "Currently using NoneMB of memory\n",
      " \n",
      "Writting results to results/MIROC6_historical_Arg\n"
     ]
    },
    {
     "name": "stderr",
     "output_type": "stream",
     "text": [
      "Killed\n"
     ]
    },
    {
     "name": "stdout",
     "output_type": "stream",
     "text": [
      " \n",
      "41.05078125\n",
      "Currently using NoneMB of memory\n",
      " \n",
      "Writting results to results/TaiESM1_historical_Arg\n"
     ]
    },
    {
     "name": "stderr",
     "output_type": "stream",
     "text": [
      "Killed\n"
     ]
    },
    {
     "name": "stdout",
     "output_type": "stream",
     "text": [
      " \n",
      "41.234375\n",
      "Currently using NoneMB of memory\n",
      " \n",
      "Writting results to results/KIOST-ESM_historical_Arg\n"
     ]
    },
    {
     "name": "stderr",
     "output_type": "stream",
     "text": [
      "Traceback (most recent call last):\n",
      "  File \"/home/mcamporino/.pyenv/versions/py_3_10_14/lib/python3.10/site-packages/pandas/core/indexes/base.py\", line 3361, in get_loc\n",
      "    return self._engine.get_loc(casted_key)\n",
      "  File \"pandas/_libs/index.pyx\", line 76, in pandas._libs.index.IndexEngine.get_loc\n",
      "  File \"pandas/_libs/index.pyx\", line 108, in pandas._libs.index.IndexEngine.get_loc\n",
      "  File \"pandas/_libs/hashtable_class_helper.pxi\", line 5198, in pandas._libs.hashtable.PyObjectHashTable.get_item\n",
      "  File \"pandas/_libs/hashtable_class_helper.pxi\", line 5206, in pandas._libs.hashtable.PyObjectHashTable.get_item\n",
      "KeyError: 'is_land'\n",
      "\n",
      "The above exception was the direct cause of the following exception:\n",
      "\n",
      "Traceback (most recent call last):\n",
      "  File \"/home/mcamporino/.pyenv/versions/py_3_10_14/lib/python3.10/site-packages/pandas/core/frame.py\", line 3751, in _set_item_mgr\n",
      "    loc = self._info_axis.get_loc(key)\n",
      "  File \"/home/mcamporino/.pyenv/versions/py_3_10_14/lib/python3.10/site-packages/pandas/core/indexes/base.py\", line 3363, in get_loc\n",
      "    raise KeyError(key) from err\n",
      "KeyError: 'is_land'\n",
      "\n",
      "During handling of the above exception, another exception occurred:\n",
      "\n",
      "Traceback (most recent call last):\n",
      "  File \"/home/mcamporino/repos/untracked/fonsa_models/process_data.py\", line 166, in <module>\n",
      "    main()\n",
      "  File \"/home/mcamporino/repos/untracked/fonsa_models/process_data.py\", line 147, in main\n",
      "    results['is_land'] = results[['lat', 'lon']].apply(lambda r: globe.is_land(lat=r['lat'], lon=r['lon']), axis=1)\n",
      "  File \"/home/mcamporino/.pyenv/versions/py_3_10_14/lib/python3.10/site-packages/pandas/core/frame.py\", line 3602, in __setitem__\n",
      "    self._set_item_frame_value(key, value)\n",
      "  File \"/home/mcamporino/.pyenv/versions/py_3_10_14/lib/python3.10/site-packages/pandas/core/frame.py\", line 3742, in _set_item_frame_value\n",
      "    self._set_item_mgr(key, arraylike)\n",
      "  File \"/home/mcamporino/.pyenv/versions/py_3_10_14/lib/python3.10/site-packages/pandas/core/frame.py\", line 3754, in _set_item_mgr\n",
      "    self._mgr.insert(len(self._info_axis), key, value)\n",
      "  File \"/home/mcamporino/.pyenv/versions/py_3_10_14/lib/python3.10/site-packages/pandas/core/internals/managers.py\", line 1162, in insert\n",
      "    block = new_block(values=value, ndim=self.ndim, placement=slice(loc, loc + 1))\n",
      "  File \"/home/mcamporino/.pyenv/versions/py_3_10_14/lib/python3.10/site-packages/pandas/core/internals/blocks.py\", line 1937, in new_block\n",
      "    check_ndim(values, placement, ndim)\n",
      "  File \"/home/mcamporino/.pyenv/versions/py_3_10_14/lib/python3.10/site-packages/pandas/core/internals/blocks.py\", line 1979, in check_ndim\n",
      "    raise ValueError(\n",
      "ValueError: Wrong number of items passed 2, placement implies 1\n"
     ]
    },
    {
     "name": "stdout",
     "output_type": "stream",
     "text": [
      "Loading temperature data from: data/tasmax_KIOST-ESM_historical_Arg.nc\n",
      "Loading precipitation data from: data/pr_KIOST-ESM_historical_Arg.nc\n",
      "\n",
      "--- Processing Scenario ---\n",
      "Season: winter\n",
      "PP lower bound: 1\n",
      "Grouping strategy: 0\n",
      " \n",
      "42.875\n",
      "Currently using NoneMB of memory\n",
      " \n",
      "Writting results to results/ACCESS-ESM1-5_ssp585_Arg\n"
     ]
    },
    {
     "name": "stderr",
     "output_type": "stream",
     "text": [
      "Killed\n"
     ]
    },
    {
     "name": "stdout",
     "output_type": "stream",
     "text": [
      " \n",
      "41.39453125\n",
      "Currently using NoneMB of memory\n",
      " \n",
      "Writting results to results/CNRM-CM6-1_ssp585_Arg\n"
     ]
    },
    {
     "name": "stderr",
     "output_type": "stream",
     "text": [
      "Killed\n"
     ]
    },
    {
     "name": "stdout",
     "output_type": "stream",
     "text": [
      " \n",
      "41.11328125\n",
      "Currently using NoneMB of memory\n",
      " \n",
      "Writting results to results/CanESM5_ssp585_Arg\n"
     ]
    },
    {
     "name": "stderr",
     "output_type": "stream",
     "text": [
      "Traceback (most recent call last):\n",
      "  File \"/home/mcamporino/repos/untracked/fonsa_models/process_data.py\", line 166, in <module>\n",
      "    main()\n",
      "  File \"/home/mcamporino/repos/untracked/fonsa_models/process_data.py\", line 62, in main\n",
      "    df_raw = pd.merge(df_temp, df_pp, on=['lat', 'lon', 'time'])\n",
      "  File \"/home/mcamporino/.pyenv/versions/py_3_10_14/lib/python3.10/site-packages/pandas/core/reshape/merge.py\", line 121, in merge\n",
      "    return op.get_result()\n",
      "  File \"/home/mcamporino/.pyenv/versions/py_3_10_14/lib/python3.10/site-packages/pandas/core/reshape/merge.py\", line 715, in get_result\n",
      "    join_index, left_indexer, right_indexer = self._get_join_info()\n",
      "  File \"/home/mcamporino/.pyenv/versions/py_3_10_14/lib/python3.10/site-packages/pandas/core/reshape/merge.py\", line 966, in _get_join_info\n",
      "    (left_indexer, right_indexer) = self._get_join_indexers()\n",
      "  File \"/home/mcamporino/.pyenv/versions/py_3_10_14/lib/python3.10/site-packages/pandas/core/reshape/merge.py\", line 940, in _get_join_indexers\n",
      "    return get_join_indexers(\n",
      "  File \"/home/mcamporino/.pyenv/versions/py_3_10_14/lib/python3.10/site-packages/pandas/core/reshape/merge.py\", line 1481, in get_join_indexers\n",
      "    zipped = zip(*mapped)\n",
      "  File \"/home/mcamporino/.pyenv/versions/py_3_10_14/lib/python3.10/site-packages/pandas/core/reshape/merge.py\", line 1478, in <genexpr>\n",
      "    _factorize_keys(left_keys[n], right_keys[n], sort=sort, how=how)\n",
      "  File \"/home/mcamporino/.pyenv/versions/py_3_10_14/lib/python3.10/site-packages/pandas/core/reshape/merge.py\", line 2187, in _factorize_keys\n",
      "    rlab = rizer.factorize(rk)\n",
      "KeyboardInterrupt\n"
     ]
    },
    {
     "name": "stdout",
     "output_type": "stream",
     "text": [
      "Loading temperature data from: data/tasmax_CanESM5_ssp585_Arg.nc\n",
      "Loading precipitation data from: data/pr_CanESM5_ssp585_Arg.nc\n",
      " \n",
      "42.41796875\n",
      "Currently using NoneMB of memory\n",
      " \n",
      "Writting results to results/HadGEM3-GC31-LL_ssp585_Arg\n",
      " \n",
      "43.76953125\n",
      "Currently using NoneMB of memory\n",
      " \n",
      "Writting results to results/IPSL-CM6A-LR_ssp585_Arg\n",
      " \n",
      "43.76953125\n",
      "Currently using NoneMB of memory\n",
      " \n",
      "Writting results to results/NorESM2-MM_ssp585_Arg\n",
      " \n",
      "43.76953125\n",
      "Currently using NoneMB of memory\n",
      " \n",
      "Writting results to results/INM-CM5-0_ssp585_Arg\n",
      " \n",
      "43.921875\n",
      "Currently using NoneMB of memory\n",
      " \n",
      "Writting results to results/MIROC6_ssp585_Arg\n",
      " \n",
      "43.921875\n",
      "Currently using NoneMB of memory\n",
      " \n",
      "Writting results to results/TaiESM1_ssp585_Arg\n",
      " \n",
      "44.046875\n",
      "Currently using NoneMB of memory\n",
      " \n",
      "Writting results to results/KIOST-ESM_ssp585_Arg\n"
     ]
    }
   ],
   "source": [
    "import psutil\n",
    "process = psutil.Process()\n",
    "\n",
    "for record in file_pairs:\n",
    "    print(f\"Writting results to {record['results_path']}\")\n",
    "    os.makedirs(record['results_path'], exist_ok=True)\n",
    "    \n",
    "    bash_prompt = f\"python process_data.py --file_name_temp {record['tas']} --file_name_pp {record['pr']} --results_folder {record['results_path']}\"\n",
    "    os.system(bash_prompt)\n",
    "    gc.collect()\n",
    "    print(' ')\n",
    "    print(f'Currently using {(process.memory_info().rss/1024/1024)}MB of memory')\n",
    "    print(' ')    "
   ]
  },
  {
   "cell_type": "code",
   "execution_count": null,
   "id": "ed52c188-3a13-41c6-ba86-8d555dc55712",
   "metadata": {},
   "outputs": [],
   "source": []
  }
 ],
 "metadata": {
  "kernelspec": {
   "display_name": "Python 3 (ipykernel)",
   "language": "python",
   "name": "python3"
  },
  "language_info": {
   "codemirror_mode": {
    "name": "ipython",
    "version": 3
   },
   "file_extension": ".py",
   "mimetype": "text/x-python",
   "name": "python",
   "nbconvert_exporter": "python",
   "pygments_lexer": "ipython3",
   "version": "3.10.14"
  }
 },
 "nbformat": 4,
 "nbformat_minor": 5
}
