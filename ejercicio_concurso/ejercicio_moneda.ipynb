{
 "cells": [
  {
   "cell_type": "code",
   "execution_count": 13,
   "id": "99d41015-43bd-4329-b180-f0fe9298b8cf",
   "metadata": {},
   "outputs": [],
   "source": [
    "import numpy as np\n",
    "import matplotlib.pyplot as plt\n",
    "from scipy.stats import binom # Para calcular la distribución binomial\n",
    "from ipywidgets import interact, IntSlider, FloatSlider, VBox, HTML\n",
    "from IPython.display import display"
   ]
  },
  {
   "cell_type": "code",
   "execution_count": 14,
   "id": "6597533f-c929-4cce-af83-4f57e41086e3",
   "metadata": {},
   "outputs": [
    {
     "data": {
      "application/vnd.jupyter.widget-view+json": {
       "model_id": "0e760f08c7b14e3a86870acbd28789f8",
       "version_major": 2,
       "version_minor": 0
      },
      "text/plain": [
       "interactive(children=(IntSlider(value=10, description='Nº de Lanzamientos ($n$):', max=50, min=1), FloatSlider…"
      ]
     },
     "metadata": {},
     "output_type": "display_data"
    },
    {
     "data": {
      "application/vnd.jupyter.widget-view+json": {
       "model_id": "04bee86cbc3d486c86f8e5d8441f936d",
       "version_major": 2,
       "version_minor": 0
      },
      "text/plain": [
       "HTML(value='<h1>Ejercicio de Probabilidad: Cara o Cruz 🪙</h1>')"
      ]
     },
     "metadata": {},
     "output_type": "display_data"
    },
    {
     "data": {
      "application/vnd.jupyter.widget-view+json": {
       "model_id": "665f003d90044b1fb8703157e1ee82cf",
       "version_major": 2,
       "version_minor": 0
      },
      "text/plain": [
       "HTML(value='<p>Modifica los parámetros para explorar cómo cambian las probabilidades de obtener un número espe…"
      ]
     },
     "metadata": {},
     "output_type": "display_data"
    }
   ],
   "source": [
    "def experimento_moneda(n_lanzamientos, p_cara):\n",
    "    \"\"\"Calcula y grafica la distribución de probabilidad de obtener 'k' caras.\"\"\"\n",
    "    \n",
    "    # 1. Títulos y explicación (se verán en Voilà)\n",
    "    display(HTML(f\"<h2>Resultados de la Simulación</h2>\"))\n",
    "    display(HTML(f\"**Parámetros:** $n={n_lanzamientos}$ lanzamientos, $p={p_cara}$ de probabilidad de cara.\"))\n",
    "    \n",
    "    # 2. Cálculo de la distribución binomial\n",
    "    k = np.arange(0, n_lanzamientos + 1)\n",
    "    probabilidades = binom.pmf(k, n_lanzamientos, p_cara)\n",
    "    \n",
    "    # 3. Gráfico\n",
    "    plt.figure(figsize=(10, 5))\n",
    "    plt.bar(k, probabilidades, color='skyblue')\n",
    "    plt.title(f'Distribución de Probabilidad Binomial (N={n_lanzamientos}, p={p_cara})')\n",
    "    plt.xlabel('Número de Caras (k)')\n",
    "    plt.ylabel('Probabilidad P(X=k)')\n",
    "    plt.xticks(k)\n",
    "    plt.grid(axis='y', alpha=0.5)\n",
    "    plt.show()\n",
    "\n",
    "# 4. Definición e interacción de los Widgets\n",
    "# Creamos los widgets de forma explícita para tener más control\n",
    "slider_n = IntSlider(min=1, max=50, step=1, value=10, description='Nº de Lanzamientos ($n$):')\n",
    "slider_p = FloatSlider(min=0.01, max=0.99, step=0.01, value=0.5, description='Prob. de Cara ($p$):')\n",
    "\n",
    "# Usamos interact para vincular los widgets a la función\n",
    "interact_plot = interact(experimento_moneda, \n",
    "                         n_lanzamientos=slider_n, \n",
    "                         p_cara=slider_p)\n",
    "\n",
    "# Opcional: Mostrar una introducción al inicio del notebook\n",
    "display(HTML(\"<h1>Ejercicio de Probabilidad: Cara o Cruz 🪙</h1>\"))\n",
    "display(HTML(\"<p>Modifica los parámetros para explorar cómo cambian las probabilidades de obtener un número específico de caras.</p>\"))\n",
    "\n",
    "# Nota: Si usas `interact` al final de la celda, Voilà lo detectará automáticamente."
   ]
  },
  {
   "cell_type": "code",
   "execution_count": null,
   "id": "5f63e872-5e02-47e2-a599-adf103a6c738",
   "metadata": {},
   "outputs": [],
   "source": []
  }
 ],
 "metadata": {
  "kernelspec": {
   "display_name": "Python 3 (ipykernel)",
   "language": "python",
   "name": "python3"
  },
  "language_info": {
   "codemirror_mode": {
    "name": "ipython",
    "version": 3
   },
   "file_extension": ".py",
   "mimetype": "text/x-python",
   "name": "python",
   "nbconvert_exporter": "python",
   "pygments_lexer": "ipython3",
   "version": "3.10.4"
  }
 },
 "nbformat": 4,
 "nbformat_minor": 5
}
